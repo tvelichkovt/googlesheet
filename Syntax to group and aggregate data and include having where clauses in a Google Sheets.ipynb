{
 "cells": [
  {
   "cell_type": "code",
   "execution_count": null,
   "id": "d7ae4b79",
   "metadata": {},
   "outputs": [],
   "source": [
    "https://docs.google.com/spreadsheets/d/1930Y-bAdq178Df1a1RWD6ssu0C9LqdZ2QUg0arngnlc/edit?usp=sharing\n",
    "\n",
    "syntax to group and aggregate data in a Google Sheets:\n",
    "=query({A:E}, \"select Col1, avg( Col4) group by Col1\", 1)\n",
    "\n",
    "syntax to group and COUNT clause in a Google Sheets:\n",
    "=query({A:E}, \"select Col1, count(Col3) group by Col1\")\n",
    "\n",
    "syntax to group and HAVING + WHERE clause in a Google Sheets:\n",
    "=query({A:E}, \"select Col1, count(Col3) where Col5 = 2021 group by Col1 order by count(Col3) desc  \")\n",
    "\n"
   ]
  }
 ],
 "metadata": {
  "kernelspec": {
   "display_name": "Python 3 (ipykernel)",
   "language": "python",
   "name": "python3"
  },
  "language_info": {
   "codemirror_mode": {
    "name": "ipython",
    "version": 3
   },
   "file_extension": ".py",
   "mimetype": "text/x-python",
   "name": "python",
   "nbconvert_exporter": "python",
   "pygments_lexer": "ipython3",
   "version": "3.8.3"
  }
 },
 "nbformat": 4,
 "nbformat_minor": 5
}
